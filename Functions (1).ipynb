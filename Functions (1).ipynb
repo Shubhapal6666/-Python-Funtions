{
  "nbformat": 4,
  "nbformat_minor": 0,
  "metadata": {
    "colab": {
      "provenance": []
    },
    "kernelspec": {
      "name": "python3",
      "display_name": "Python 3"
    },
    "language_info": {
      "name": "python"
    }
  },
  "cells": [
    {
      "cell_type": "markdown",
      "source": [
        "#Functions"
      ],
      "metadata": {
        "id": "7BMSQiQWLkqx"
      }
    },
    {
      "cell_type": "markdown",
      "source": [
        "#Theory Questions:\n"
      ],
      "metadata": {
        "id": "GQoGvpxfOXhI"
      }
    },
    {
      "cell_type": "markdown",
      "source": [
        "1. What is the difference between a function and a method in Python?\n",
        "\n",
        "    Function: Independent block of code defined using def.\n",
        "\n",
        "    Method: A function inside a class, automatically takes the instance (self) as the first argument."
      ],
      "metadata": {
        "id": "jZUImvpILo1r"
      }
    },
    {
      "cell_type": "code",
      "execution_count": 1,
      "metadata": {
        "id": "v2qKlOQeKrK-",
        "colab": {
          "base_uri": "https://localhost:8080/"
        },
        "outputId": "72eb328a-0e01-449e-dda4-5213ec6ecbfd"
      },
      "outputs": [
        {
          "output_type": "stream",
          "name": "stdout",
          "text": [
            "5\n",
            "6\n"
          ]
        }
      ],
      "source": [
        "# Function\n",
        "def add(a, b):\n",
        "    return a + b\n",
        "\n",
        "print(add(2, 3))  # 5\n",
        "\n",
        "# Method\n",
        "class Calculator:\n",
        "    def multiply(self, a, b):\n",
        "        return a * b\n",
        "\n",
        "obj = Calculator()\n",
        "print(obj.multiply(2, 3))  # 6\n"
      ]
    },
    {
      "cell_type": "markdown",
      "source": [
        "2. Explain the concept of function arguments and parameters in Python.\n",
        "\n",
        "   Parameters → Variables listed inside function definition.\n",
        "\n",
        "   Arguments → Actual values supplied when calling the function."
      ],
      "metadata": {
        "id": "uXWB6yK6MD4w"
      }
    },
    {
      "cell_type": "code",
      "source": [
        "def greet(name):   # 'name' = parameter\n",
        "    print(\"Hello\", name)\n",
        "\n",
        "greet(\"Alice\")     # \"Alice\" = argument\n"
      ],
      "metadata": {
        "id": "xuNFkJ0nMM_g",
        "colab": {
          "base_uri": "https://localhost:8080/"
        },
        "outputId": "bdb62606-1564-44fd-d0d1-2c70c96aaea3"
      },
      "execution_count": 2,
      "outputs": [
        {
          "output_type": "stream",
          "name": "stdout",
          "text": [
            "Hello Alice\n"
          ]
        }
      ]
    },
    {
      "cell_type": "markdown",
      "source": [
        "3. What are the different ways to define and call a function in Python?\n",
        "\n",
        "   Using def keyword\n",
        "\n",
        "   Using lambda (anonymous function)\n",
        "\n",
        "   Calling by position, keyword, default, or variable-length arguments"
      ],
      "metadata": {
        "id": "zLGszOP3MO3v"
      }
    },
    {
      "cell_type": "code",
      "source": [
        "# Normal function\n",
        "def square(x):\n",
        "    return x*x\n",
        "print(square(4))\n",
        "\n",
        "# Lambda function\n",
        "sq = lambda x: x*x\n",
        "print(sq(5))\n",
        "\n",
        "# Default & keyword arguments\n",
        "def student(name, age=18):\n",
        "    print(name, age)\n",
        "\n",
        "student(\"John\")         # John 18\n",
        "student(age=20, name=\"Alice\")  # Alice 20\n"
      ],
      "metadata": {
        "id": "IGQD2nT4MWSB",
        "colab": {
          "base_uri": "https://localhost:8080/"
        },
        "outputId": "766c81e9-b8f2-42e8-95c5-d6e1836dfaba"
      },
      "execution_count": 3,
      "outputs": [
        {
          "output_type": "stream",
          "name": "stdout",
          "text": [
            "16\n",
            "25\n",
            "John 18\n",
            "Alice 20\n"
          ]
        }
      ]
    },
    {
      "cell_type": "markdown",
      "source": [
        "4. What is the purpose of the return statement in a Python function?\n",
        "\n",
        "    It sends a value back to the caller.\n",
        "\n",
        "   Without return, a function returns None."
      ],
      "metadata": {
        "id": "Sofa80nZMY7R"
      }
    },
    {
      "cell_type": "code",
      "source": [
        "def add(a, b):\n",
        "    return a + b\n",
        "\n",
        "result = add(5, 7)\n",
        "print(result)  # 12\n"
      ],
      "metadata": {
        "id": "cclYJChdMkO4",
        "colab": {
          "base_uri": "https://localhost:8080/"
        },
        "outputId": "7323aa95-b4be-44c4-90ae-4250141c9da0"
      },
      "execution_count": 4,
      "outputs": [
        {
          "output_type": "stream",
          "name": "stdout",
          "text": [
            "12\n"
          ]
        }
      ]
    },
    {
      "cell_type": "markdown",
      "source": [
        "5. What are iterators in Python and how do they differ from iterables?\n",
        "\n",
        "    Iterable → Any object we can loop over (list, tuple, string).\n",
        "\n",
        "    Iterator → Special object with __iter__() and __next__(), gives items one by one."
      ],
      "metadata": {
        "id": "l5i1i4kGMqfg"
      }
    },
    {
      "cell_type": "code",
      "source": [
        "nums = [1, 2, 3]   # iterable\n",
        "it = iter(nums)    # iterator\n",
        "\n",
        "print(next(it))  # 1\n",
        "print(next(it))  # 2\n"
      ],
      "metadata": {
        "id": "PCH90eQFMyin",
        "colab": {
          "base_uri": "https://localhost:8080/"
        },
        "outputId": "79263ae9-70d2-4e38-9858-ada2852235a7"
      },
      "execution_count": 5,
      "outputs": [
        {
          "output_type": "stream",
          "name": "stdout",
          "text": [
            "1\n",
            "2\n"
          ]
        }
      ]
    },
    {
      "cell_type": "markdown",
      "source": [
        "6. Explain the concept of generators in Python and how they are defined.\n",
        "\n",
        "   A generator is a special iterator created using yield.\n",
        "\n",
        "   Generates values lazily (one at a time)."
      ],
      "metadata": {
        "id": "CH2GWquZMzUw"
      }
    },
    {
      "cell_type": "code",
      "source": [
        "def my_gen():\n",
        "    yield 1\n",
        "    yield 2\n",
        "    yield 3\n",
        "\n",
        "for val in my_gen():\n",
        "    print(val)\n"
      ],
      "metadata": {
        "id": "1qPp5gJeM6Ox",
        "colab": {
          "base_uri": "https://localhost:8080/"
        },
        "outputId": "bff8ac17-c905-419f-c125-98718f63aad4"
      },
      "execution_count": 6,
      "outputs": [
        {
          "output_type": "stream",
          "name": "stdout",
          "text": [
            "1\n",
            "2\n",
            "3\n"
          ]
        }
      ]
    },
    {
      "cell_type": "markdown",
      "source": [
        "7. What are the advantages of using generators over regular functions?\n",
        "\n",
        "   Saves memory (doesn’t store all values at once).\n",
        "\n",
        "   Useful for infinite or very large data sequences."
      ],
      "metadata": {
        "id": "VdT4131sM9zI"
      }
    },
    {
      "cell_type": "code",
      "source": [
        "\n",
        "def fib(n):\n",
        "    a, b = 0, 1\n",
        "    for _ in range(n):\n",
        "        yield a\n",
        "        a, b = b, a+b\n",
        "\n",
        "print(list(fib(5)))  # [0, 1, 1, 2, 3]\n"
      ],
      "metadata": {
        "id": "ysgXp50yNBMX",
        "colab": {
          "base_uri": "https://localhost:8080/"
        },
        "outputId": "353f3f1a-7a59-482d-f9ba-49703c4e2c54"
      },
      "execution_count": 7,
      "outputs": [
        {
          "output_type": "stream",
          "name": "stdout",
          "text": [
            "[0, 1, 1, 2, 3]\n"
          ]
        }
      ]
    },
    {
      "cell_type": "markdown",
      "source": [
        "8. What is a lambda function in Python and when is it typically used?\n",
        "\n",
        "   A lambda function is an anonymous, single-line function.\n",
        "\n",
        "   Used when a short, throwaway function is needed."
      ],
      "metadata": {
        "id": "pdhsCRuXNUZo"
      }
    },
    {
      "cell_type": "code",
      "source": [
        "square = lambda x: x*x\n",
        "print(square(5))  # 25\n"
      ],
      "metadata": {
        "id": "rp67oeAdNbIg",
        "colab": {
          "base_uri": "https://localhost:8080/"
        },
        "outputId": "4a65b531-1f6b-437f-9e18-254c39625b29"
      },
      "execution_count": 8,
      "outputs": [
        {
          "output_type": "stream",
          "name": "stdout",
          "text": [
            "25\n"
          ]
        }
      ]
    },
    {
      "cell_type": "markdown",
      "source": [
        "9. Explain the purpose and usage of the map() function in Python.\n",
        "\n",
        "    map() applies a function to every item in an iterable."
      ],
      "metadata": {
        "id": "RmxWbqOSNfK4"
      }
    },
    {
      "cell_type": "code",
      "source": [
        "nums = [1, 2, 3, 4]\n",
        "squared = list(map(lambda x: x*x, nums))\n",
        "print(squared)  # [1, 4, 9, 16]\n"
      ],
      "metadata": {
        "id": "LjN9Ae8YNgtY",
        "colab": {
          "base_uri": "https://localhost:8080/"
        },
        "outputId": "97856ec3-f898-425d-8d63-7a84d3626b2d"
      },
      "execution_count": 9,
      "outputs": [
        {
          "output_type": "stream",
          "name": "stdout",
          "text": [
            "[1, 4, 9, 16]\n"
          ]
        }
      ]
    },
    {
      "cell_type": "markdown",
      "source": [
        "10. What is the difference between map(), reduce(), and filter() functions in Python?\n",
        "\n",
        "   map() → Applies function to all items.\n",
        "\n",
        "   filter() → Keeps only items that match a condition.\n",
        "\n",
        "   reduce() → Combines elements into a single value."
      ],
      "metadata": {
        "id": "-L7zvu3cNr3h"
      }
    },
    {
      "cell_type": "code",
      "source": [
        "from functools import reduce\n",
        "nums = [1, 2, 3, 4]\n",
        "\n",
        "print(list(map(lambda x: x*x, nums)))        # [1, 4, 9, 16]\n",
        "print(list(filter(lambda x: x%2==0, nums)))  # [2, 4]\n",
        "print(reduce(lambda x,y: x+y, nums))         # 10\n"
      ],
      "metadata": {
        "id": "wRQMPwhQNyEI",
        "colab": {
          "base_uri": "https://localhost:8080/"
        },
        "outputId": "8e070c35-4314-4f6f-c1d0-6b7156140522"
      },
      "execution_count": 10,
      "outputs": [
        {
          "output_type": "stream",
          "name": "stdout",
          "text": [
            "[1, 4, 9, 16]\n",
            "[2, 4]\n",
            "10\n"
          ]
        }
      ]
    },
    {
      "cell_type": "markdown",
      "source": [
        "11. Using pen & paper, write the internal mechanism for sum operation using reduce on [47, 11, 42, 13]."
      ],
      "metadata": {
        "id": "y-oSVSI9N0Rh"
      }
    },
    {
      "cell_type": "markdown",
      "source": [
        "   Step 1: reduce(lambda x,y: x+y, [47, 11, 42, 13])\n",
        "\n",
        "   Step 2: First call → 47 + 11 = 58\n",
        "\n",
        "   Step 3: Next call → 58 + 42 = 100\n",
        "\n",
        "   Step 4: Final call → 100 + 13 = 113\n",
        "\n",
        "   Result = 113"
      ],
      "metadata": {
        "id": "-kp3_A5aRV1o"
      }
    },
    {
      "cell_type": "markdown",
      "source": [
        "\n",
        "\n",
        "#Practical Questions:"
      ],
      "metadata": {
        "id": "amGG8D69OSH5"
      }
    },
    {
      "cell_type": "markdown",
      "source": [
        "1. Write a Python function that takes a list of numbers as input and returns the sum of all even numbers in the list."
      ],
      "metadata": {
        "id": "dxAq20uxOU2Z"
      }
    },
    {
      "cell_type": "code",
      "source": [
        "def sum_even(numbers):\n",
        "    return sum([n for n in numbers if n % 2 == 0])\n",
        "\n",
        "print(sum_even([1, 2, 3, 4, 5, 6]))  # 12\n"
      ],
      "metadata": {
        "id": "tPUM1_pCOjjR",
        "colab": {
          "base_uri": "https://localhost:8080/"
        },
        "outputId": "761f05e7-334a-4edc-c4a1-8bf3131e4f20"
      },
      "execution_count": 12,
      "outputs": [
        {
          "output_type": "stream",
          "name": "stdout",
          "text": [
            "12\n"
          ]
        }
      ]
    },
    {
      "cell_type": "markdown",
      "source": [
        "2. Create a Python function that accepts a string and returns the reverse of that string."
      ],
      "metadata": {
        "id": "Fxvy6aI1On5Y"
      }
    },
    {
      "cell_type": "code",
      "source": [
        "def reverse_string(s):\n",
        "    return s[::-1]\n",
        "\n",
        "print(reverse_string(\"hello\"))  # \"olleh\"\n"
      ],
      "metadata": {
        "id": "AMg-YFwQOolZ",
        "colab": {
          "base_uri": "https://localhost:8080/"
        },
        "outputId": "a207dec9-a8f9-447c-991a-6805a4f393dc"
      },
      "execution_count": 13,
      "outputs": [
        {
          "output_type": "stream",
          "name": "stdout",
          "text": [
            "olleh\n"
          ]
        }
      ]
    },
    {
      "cell_type": "markdown",
      "source": [
        "3. Implement a Python function that takes a list of integers and returns a new list containing the squares of each number."
      ],
      "metadata": {
        "id": "FttrLM9vOqsY"
      }
    },
    {
      "cell_type": "code",
      "source": [
        "def squares(lst):\n",
        "    return [x**2 for x in lst]\n",
        "\n",
        "print(squares([1, 2, 3, 4]))  # [1, 4, 9, 16]\n"
      ],
      "metadata": {
        "id": "-DEDPHHnOush",
        "colab": {
          "base_uri": "https://localhost:8080/"
        },
        "outputId": "af159459-ad65-4606-c5cb-2a4365313bd4"
      },
      "execution_count": 14,
      "outputs": [
        {
          "output_type": "stream",
          "name": "stdout",
          "text": [
            "[1, 4, 9, 16]\n"
          ]
        }
      ]
    },
    {
      "cell_type": "markdown",
      "source": [
        "4. Write a Python function that checks if a given number is prime or not from 1 to 200."
      ],
      "metadata": {
        "id": "ZuNdheogOwzQ"
      }
    },
    {
      "cell_type": "code",
      "source": [
        "def is_prime(n):\n",
        "    if n < 2:\n",
        "        return False\n",
        "    for i in range(2, int(n**0.5) + 1):\n",
        "        if n % i == 0:\n",
        "            return False\n",
        "    return True\n",
        "\n",
        "# Check primes between 1 and 200\n",
        "primes = [x for x in range(1, 201) if is_prime(x)]\n",
        "print(primes)\n"
      ],
      "metadata": {
        "id": "Cv6McsDdO1GQ",
        "colab": {
          "base_uri": "https://localhost:8080/"
        },
        "outputId": "d1d06ccf-5a58-43af-ba19-13511d98f6ea"
      },
      "execution_count": 15,
      "outputs": [
        {
          "output_type": "stream",
          "name": "stdout",
          "text": [
            "[2, 3, 5, 7, 11, 13, 17, 19, 23, 29, 31, 37, 41, 43, 47, 53, 59, 61, 67, 71, 73, 79, 83, 89, 97, 101, 103, 107, 109, 113, 127, 131, 137, 139, 149, 151, 157, 163, 167, 173, 179, 181, 191, 193, 197, 199]\n"
          ]
        }
      ]
    },
    {
      "cell_type": "markdown",
      "source": [
        "5. Create an iterator class in Python that generates the Fibonacci sequence up to a specified number of terms."
      ],
      "metadata": {
        "id": "x9mBTcdbO2zg"
      }
    },
    {
      "cell_type": "code",
      "source": [
        "class Fibonacci:\n",
        "    def __init__(self, terms):\n",
        "        self.terms = terms\n",
        "        self.a, self.b = 0, 1\n",
        "        self.count = 0\n",
        "\n",
        "    def __iter__(self):\n",
        "        return self\n",
        "\n",
        "    def __next__(self):\n",
        "        if self.count >= self.terms:\n",
        "            raise StopIteration\n",
        "        value = self.a\n",
        "        self.a, self.b = self.b, self.a + self.b\n",
        "        self.count += 1\n",
        "        return value\n",
        "\n",
        "for num in Fibonacci(10):\n",
        "    print(num, end=\" \")  # 0 1 1 2 3 5 8 13 21 34\n"
      ],
      "metadata": {
        "id": "qHMqi-HOO5pJ",
        "colab": {
          "base_uri": "https://localhost:8080/"
        },
        "outputId": "368148e3-5dca-49c7-be99-d709b5c0dd99"
      },
      "execution_count": 16,
      "outputs": [
        {
          "output_type": "stream",
          "name": "stdout",
          "text": [
            "0 1 1 2 3 5 8 13 21 34 "
          ]
        }
      ]
    },
    {
      "cell_type": "markdown",
      "source": [
        "6. Write a generator function in Python that yields the powers of 2 up to a given exponent."
      ],
      "metadata": {
        "id": "lUtLLdtuO71p"
      }
    },
    {
      "cell_type": "code",
      "source": [
        "def powers_of_two(n):\n",
        "    for i in range(n+1):\n",
        "        yield 2**i\n",
        "\n",
        "print(list(powers_of_two(5)))  # [1, 2, 4, 8, 16, 32]\n"
      ],
      "metadata": {
        "id": "ZKJ-gZGaPAU5",
        "colab": {
          "base_uri": "https://localhost:8080/"
        },
        "outputId": "a6116912-215f-466a-b73f-36281f7bd1d1"
      },
      "execution_count": 17,
      "outputs": [
        {
          "output_type": "stream",
          "name": "stdout",
          "text": [
            "[1, 2, 4, 8, 16, 32]\n"
          ]
        }
      ]
    },
    {
      "cell_type": "markdown",
      "source": [
        "7. Implement a generator function that reads a file line by line and yields each line as a string."
      ],
      "metadata": {
        "id": "SOhP3VFZPC5o"
      }
    },
    {
      "cell_type": "code",
      "source": [
        "def read_file(filename):\n",
        "    with open(filename, 'r') as f:\n",
        "        for line in f:\n",
        "            yield line.strip()\n",
        "\n",
        "\n"
      ],
      "metadata": {
        "id": "SNxu9TL1PFvY"
      },
      "execution_count": 19,
      "outputs": []
    },
    {
      "cell_type": "markdown",
      "source": [
        "8. Use a lambda function in Python to sort a list of tuples based on the second element of each tuple."
      ],
      "metadata": {
        "id": "89C-8mylPIro"
      }
    },
    {
      "cell_type": "code",
      "source": [
        "data = [(1, 3), (4, 1), (2, 2)]\n",
        "sorted_data = sorted(data, key=lambda x: x[1])\n",
        "print(sorted_data)  # [(4, 1), (2, 2), (1, 3)]\n"
      ],
      "metadata": {
        "id": "sxDcK-avPPY4",
        "colab": {
          "base_uri": "https://localhost:8080/"
        },
        "outputId": "bda69a34-e272-4855-fdd1-8e26d04b6f99"
      },
      "execution_count": 20,
      "outputs": [
        {
          "output_type": "stream",
          "name": "stdout",
          "text": [
            "[(4, 1), (2, 2), (1, 3)]\n"
          ]
        }
      ]
    },
    {
      "cell_type": "markdown",
      "source": [
        "9. Write a Python program that uses map() to convert a list of temperatures from Celsius to Fahrenheit.\n",
        "\n",
        "Formula: F = (C * 9/5) + 32"
      ],
      "metadata": {
        "id": "NgDXfBJDPSng"
      }
    },
    {
      "cell_type": "code",
      "source": [
        "celsius = [0, 10, 20, 30]\n",
        "fahrenheit = list(map(lambda c: (c * 9/5) + 32, celsius))\n",
        "print(fahrenheit)  # [32.0, 50.0, 68.0, 86.0]\n"
      ],
      "metadata": {
        "id": "w9xxT1wiPTzL",
        "colab": {
          "base_uri": "https://localhost:8080/"
        },
        "outputId": "2bd4f36c-ff6f-49b2-e00d-6c5de3073071"
      },
      "execution_count": 21,
      "outputs": [
        {
          "output_type": "stream",
          "name": "stdout",
          "text": [
            "[32.0, 50.0, 68.0, 86.0]\n"
          ]
        }
      ]
    },
    {
      "cell_type": "markdown",
      "source": [
        "10. Create a Python program that uses filter() to remove all the vowels from a given string."
      ],
      "metadata": {
        "id": "OylEKPMnPWGQ"
      }
    },
    {
      "cell_type": "code",
      "source": [
        "def remove_vowels(s):\n",
        "    return ''.join(filter(lambda ch: ch.lower() not in 'aeiou', s))\n",
        "\n",
        "print(remove_vowels(\"hello world\"))  # \"hll wrld\"\n"
      ],
      "metadata": {
        "id": "hDSBszLBPZJA",
        "colab": {
          "base_uri": "https://localhost:8080/"
        },
        "outputId": "a33caf38-3a36-462d-a508-2242cf43ef21"
      },
      "execution_count": 22,
      "outputs": [
        {
          "output_type": "stream",
          "name": "stdout",
          "text": [
            "hll wrld\n"
          ]
        }
      ]
    },
    {
      "cell_type": "markdown",
      "source": [
        "11) Imagine an accounting routine used in a book shop. It works on a list with sublists, which look like this:\n",
        "\n",
        "\n",
        "    Write a Python program, which returns a list with 2-tuples. Each tuple consists of the order number and the\n",
        "    product of the price per item and the quantity. The product should be increased by 10,- € if the value of the\n",
        "    order is smaller than 100,00 €.\n",
        "\n",
        "    Write a Python program using lambda and map."
      ],
      "metadata": {
        "id": "dpg7xIglhRAK"
      }
    },
    {
      "cell_type": "code",
      "source": [
        "# Given order data\n",
        "orders = [\n",
        "    [34587, \"Learning Python, Mark Lutz\", 4, 40.95],\n",
        "    [98762, \"Programming Python, Mark Lutz\", 5, 56.80],\n",
        "    [77226, \"Head First Python, Paul Barry\", 3, 32.95],\n",
        "    [88112, \"Einführung in Python3, Bernd Klein\", 3, 24.99]\n",
        "]\n",
        "\n",
        "# Use lambda + map\n",
        "result = list(map(lambda x: (x[0], x[2]*x[3] if x[2]*x[3] >= 100 else x[2]*x[3] + 10), orders))\n",
        "\n",
        "print(result)\n"
      ],
      "metadata": {
        "colab": {
          "base_uri": "https://localhost:8080/"
        },
        "id": "YUrcu5W6hers",
        "outputId": "b05f3061-1fff-4543-b6c9-747f9ef6f569"
      },
      "execution_count": 23,
      "outputs": [
        {
          "output_type": "stream",
          "name": "stdout",
          "text": [
            "[(34587, 163.8), (98762, 284.0), (77226, 108.85000000000001), (88112, 84.97)]\n"
          ]
        }
      ]
    }
  ]
}